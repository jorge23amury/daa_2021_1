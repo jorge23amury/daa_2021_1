{
  "nbformat": 4,
  "nbformat_minor": 0,
  "metadata": {
    "colab": {
      "name": "Tarea10.ipynb",
      "provenance": [],
      "authorship_tag": "ABX9TyN4fTuzReqQd1ID2d+KjO0W",
      "include_colab_link": true
    },
    "kernelspec": {
      "name": "python3",
      "display_name": "Python 3"
    }
  },
  "cells": [
    {
      "cell_type": "markdown",
      "metadata": {
        "id": "view-in-github",
        "colab_type": "text"
      },
      "source": [
        "<a href=\"https://colab.research.google.com/github/jorge23amury/daa_2021_1/blob/master/Tarea10.ipynb\" target=\"_parent\"><img src=\"https://colab.research.google.com/assets/colab-badge.svg\" alt=\"Open In Colab\"/></a>"
      ]
    },
    {
      "cell_type": "code",
      "metadata": {
        "id": "4XFTT4n6HDHz"
      },
      "source": [
        "class NodoArbol:\r\n",
        "    def __init__(self, data, left = None, rigth = None):\r\n",
        "        self.value = data\r\n",
        "        self.left = left\r\n",
        "        self.rigth = rigth\r\n",
        "\r\n",
        "    def recorrido(self, contador = 0):\r\n",
        "        print(self.value, \"El nivel es: \", contador)\r\n",
        "        if self.left:\r\n",
        "            self.left.recorrido(contador + 1)\r\n",
        "        if self.rigth:\r\n",
        "            self.rigth.recorrido(contador + 1)\r\n"
      ],
      "execution_count": null,
      "outputs": []
    },
    {
      "cell_type": "code",
      "metadata": {
        "colab": {
          "base_uri": "https://localhost:8080/"
        },
        "id": "MUHnSu-gxo8p",
        "outputId": "0bd3b07a-82e1-41e4-d632-21c8b87c99ea"
      },
      "source": [
        "ab = NodoArbol(4, NodoArbol(2, NodoArbol(1), NodoArbol(3)), NodoArbol(8, None, NodoArbol(9)))\r\n",
        "ab.recorrido()"
      ],
      "execution_count": null,
      "outputs": [
        {
          "output_type": "stream",
          "text": [
            "4 El nivel es:  0\n",
            "2 El nivel es:  1\n",
            "1 El nivel es:  2\n",
            "3 El nivel es:  2\n",
            "8 El nivel es:  1\n",
            "9 El nivel es:  2\n"
          ],
          "name": "stdout"
        }
      ]
    }
  ]
}