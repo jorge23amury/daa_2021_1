{
  "nbformat": 4,
  "nbformat_minor": 0,
  "metadata": {
    "colab": {
      "name": "30septiembre.ipynb",
      "provenance": [],
      "collapsed_sections": [],
      "authorship_tag": "ABX9TyM3dVTKuVEqypC/RAGVOLyQ",
      "include_colab_link": true
    },
    "kernelspec": {
      "name": "python3",
      "display_name": "Python 3"
    }
  },
  "cells": [
    {
      "cell_type": "markdown",
      "metadata": {
        "id": "view-in-github",
        "colab_type": "text"
      },
      "source": [
        "<a href=\"https://colab.research.google.com/github/jorge23amury/daa_2021_1/blob/master/30septiembre.ipynb\" target=\"_parent\"><img src=\"https://colab.research.google.com/assets/colab-badge.svg\" alt=\"Open In Colab\"/></a>"
      ]
    },
    {
      "cell_type": "markdown",
      "metadata": {
        "id": "5bKEn1XiQKsA"
      },
      "source": [
        "# Palindromo\n",
        "Es una palabra que se lee, de igual forma de un sentido y de sentido inverso, ejemplo:\n",
        "\n",
        "1. sugus\n",
        "2. oso\n",
        "3. reconocer\n",
        "4. 10:01\n",
        "etc\n",
        "\n",
        "### Planteando el problema:\n",
        "Se desea encontrar todos los palindromos que existen en la franja horaria de un dia completo, tomando como horario inicial las 00:00 y como horario final las 23:59 horas.\n",
        "\n",
        "El algoritmo debe mostrar en pantalla todos los palindromos en ese rango, al final debe mostrar el conteo total de palindromos existentes."
      ]
    },
    {
      "cell_type": "code",
      "metadata": {
        "id": "cOCtEpzgRfia"
      },
      "source": [
        "\n",
        "import sys\n",
        "def siguiente_palindromo(n):\n",
        "  \"\"\"\n",
        "  Los palindromos del horario\n",
        "  \"\"\"\n",
        "  for i in range(n + 1, sys.maxsize):\n",
        "    if str(i) == str(i)[::-1]:\n",
        "      return i\n",
        "\n",
        "      if __name__ == \"__main__\":\n",
        "        print(siguiente_palindromo(11))"
      ],
      "execution_count": 31,
      "outputs": []
    }
  ]
}