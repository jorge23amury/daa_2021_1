{
  "nbformat": 4,
  "nbformat_minor": 0,
  "metadata": {
    "colab": {
      "name": "13_enero.ipynb",
      "provenance": [],
      "collapsed_sections": [],
      "authorship_tag": "ABX9TyOe8hROl9NGE0UKMbeJsG/6",
      "include_colab_link": true
    },
    "kernelspec": {
      "name": "python3",
      "display_name": "Python 3"
    }
  },
  "cells": [
    {
      "cell_type": "markdown",
      "metadata": {
        "id": "view-in-github",
        "colab_type": "text"
      },
      "source": [
        "<a href=\"https://colab.research.google.com/github/jorge23amury/daa_2021_1/blob/master/13_enero.ipynb\" target=\"_parent\"><img src=\"https://colab.research.google.com/assets/colab-badge.svg\" alt=\"Open In Colab\"/></a>"
      ]
    },
    {
      "cell_type": "code",
      "metadata": {
        "id": "KaRJE54jMHrr"
      },
      "source": [
        "class NodoArbol:\r\n",
        "    def __init__(self, dato, hijo_izq = None, hijo_der = None):\r\n",
        "        self.dato = dato\r\n",
        "        self.left = hijo_izq\r\n",
        "        self.rigth = hijo_der"
      ],
      "execution_count": null,
      "outputs": []
    },
    {
      "cell_type": "markdown",
      "metadata": {
        "id": "1lMvcNqFMo5A"
      },
      "source": [
        "#Arbol binario de busqueda\r\n",
        "Los nodos a la izq son menores a la reiz y los nodos a la derecha son mayores a la reiz.\r\n",
        "Pueden ser recorridos en pre-orden, in-orden y post-orden"
      ]
    },
    {
      "cell_type": "code",
      "metadata": {
        "colab": {
          "base_uri": "https://localhost:8080/",
          "height": 128
        },
        "id": "FzyuU3BwSmxm",
        "outputId": "673aa62c-f874-4429-db6b-0a1b00e109ac"
      },
      "source": [
        "class BInarySearchTree:\r\n",
        "    def __init__(self):\r\n",
        "        self.root = None\r\n",
        "\r\n",
        "    def insert(self, value):\r\n",
        "        if self.__root == None:\r\n",
        "            self.__root = NodoArbol(value, None, None)\r\n",
        "        else:  \r\n",
        "             #preguntar si value es menor que root, de ser el caso isnertar a la izq; pero puede ser el caso del que\r\n",
        "        #el subarbol izq ya tenga muchos elementos\r\n",
        "             seld.__insert_nodo__(self.__root, value)\r\n",
        "\r\n",
        "    def __insert_nodo__(self, nodo, value)\r\n",
        "    if nodo.dato == value:\r\n",
        "        pass\r\n",
        "    elif value < nodo.data:\r\n",
        "        if nodo.left == None:\r\n",
        "            nodo.left = NodoArbol(value, None, None)\r\n",
        "        else:\r\n",
        "            self.__insert_nodo__(nodo.left, value)\r\n",
        "    else:\r\n",
        "        if nodo.rigth == None:\r\n",
        "            nodo.rigth = NodoArbol(value, None, None)\r\n",
        "        else:\r\n",
        "            self.__insert_nodo__(nodo.rigth, value)\r\n",
        "\r\n",
        "\r\n",
        "\r\n"
      ],
      "execution_count": null,
      "outputs": [
        {
          "output_type": "error",
          "ename": "SyntaxError",
          "evalue": "ignored",
          "traceback": [
            "\u001b[0;36m  File \u001b[0;32m\"<ipython-input-3-f189e1a89cb1>\"\u001b[0;36m, line \u001b[0;32m13\u001b[0m\n\u001b[0;31m    def __insert_nodo__(self, nodo, value)\u001b[0m\n\u001b[0m                                          ^\u001b[0m\n\u001b[0;31mSyntaxError\u001b[0m\u001b[0;31m:\u001b[0m invalid syntax\n"
          ]
        }
      ]
    },
    {
      "cell_type": "code",
      "metadata": {
        "id": "ghmybe1Tb0mK"
      },
      "source": [
        "bst = BinarySearchTree()\r\n",
        "bst.insert(50)\r\n",
        "bst.insert(30)\r\n",
        "bst.insert(20)"
      ],
      "execution_count": null,
      "outputs": []
    }
  ]
}