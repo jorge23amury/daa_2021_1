{
  "nbformat": 4,
  "nbformat_minor": 0,
  "metadata": {
    "colab": {
      "name": "13_enero.ipynb",
      "provenance": [],
      "collapsed_sections": [],
      "authorship_tag": "ABX9TyOJXgZlkzQvO2dioTRUJFMo",
      "include_colab_link": true
    },
    "kernelspec": {
      "name": "python3",
      "display_name": "Python 3"
    }
  },
  "cells": [
    {
      "cell_type": "markdown",
      "metadata": {
        "id": "view-in-github",
        "colab_type": "text"
      },
      "source": [
        "<a href=\"https://colab.research.google.com/github/jorge23amury/daa_2021_1/blob/master/13_enero.ipynb\" target=\"_parent\"><img src=\"https://colab.research.google.com/assets/colab-badge.svg\" alt=\"Open In Colab\"/></a>"
      ]
    },
    {
      "cell_type": "code",
      "metadata": {
        "id": "KaRJE54jMHrr"
      },
      "source": [
        "class NodoArbol:\r\n",
        "    def __init__(self, dato, hijo_izq = None, hijo_der = None):\r\n",
        "        self.dato = dato\r\n",
        "        self.left = hijo_izq\r\n",
        "        self.rigth = hijo_der"
      ],
      "execution_count": null,
      "outputs": []
    },
    {
      "cell_type": "markdown",
      "metadata": {
        "id": "1lMvcNqFMo5A"
      },
      "source": [
        "#Arbol binario de busqueda\r\n",
        "Los nodos a la izq son menores a la reiz y los nodos a la derecha son mayores a la reiz.\r\n",
        "Pueden ser recorridos en pre-orden, in-orden y post-orden"
      ]
    },
    {
      "cell_type": "code",
      "metadata": {
        "id": "FzyuU3BwSmxm"
      },
      "source": [
        "class BinarySearchTree:\r\n",
        "    def __init__(self):\r\n",
        "        self.root = None\r\n",
        "\r\n",
        "    def insert(self, value):\r\n",
        "        if self.__root == None:\r\n",
        "            self.__root = NodoArbol(value, None, None)\r\n",
        "        else:  \r\n",
        "            #preguntar si value es menor que root, de ser el caso isnertar a la izq; pero puede ser el caso del que\r\n",
        "            #el subarbol izq ya tenga muchos elementos\r\n",
        "            self.__insert_nodo__( self.__root, value)\r\n",
        "\r\n",
        "    def __insert_nodo__(self, nodo, value):\r\n",
        "        if nodo.dato == value:\r\n",
        "            pass\r\n",
        "        elif value < nodo.dato:\r\n",
        "            if nodo.left == None:\r\n",
        "                nodo.left = NodoArbol(value, None, None)\r\n",
        "            else:\r\n",
        "                self.__insert_nodo__(nodo.left, value)\r\n",
        "        else:\r\n",
        "            if nodo.rigth == None:\r\n",
        "                nodo.rigth = NodoArbol(value, None, None)\r\n",
        "            else:\r\n",
        "                self.__insert_nodo__(nodo.rigth, value)\r\n",
        "    \r\n"
      ],
      "execution_count": 20,
      "outputs": []
    },
    {
      "cell_type": "code",
      "metadata": {
        "id": "ghmybe1Tb0mK",
        "colab": {
          "base_uri": "https://localhost:8080/",
          "height": 330
        },
        "outputId": "5b3cc261-1499-4419-ba98-c601cad3f557"
      },
      "source": [
        "bst = BinarySearchTree()\r\n",
        "bst.insert(50)\r\n",
        "bst.insert(30)\r\n",
        "bst.insert(20)"
      ],
      "execution_count": 21,
      "outputs": [
        {
          "output_type": "error",
          "ename": "AttributeError",
          "evalue": "ignored",
          "traceback": [
            "\u001b[0;31m---------------------------------------------------------------------------\u001b[0m",
            "\u001b[0;31mAttributeError\u001b[0m                            Traceback (most recent call last)",
            "\u001b[0;32m<ipython-input-21-18b21f959f36>\u001b[0m in \u001b[0;36m<module>\u001b[0;34m()\u001b[0m\n\u001b[1;32m      1\u001b[0m \u001b[0mbst\u001b[0m \u001b[0;34m=\u001b[0m \u001b[0mBinarySearchTree\u001b[0m\u001b[0;34m(\u001b[0m\u001b[0;34m)\u001b[0m\u001b[0;34m\u001b[0m\u001b[0;34m\u001b[0m\u001b[0m\n\u001b[0;32m----> 2\u001b[0;31m \u001b[0mbst\u001b[0m\u001b[0;34m.\u001b[0m\u001b[0minsert\u001b[0m\u001b[0;34m(\u001b[0m\u001b[0;36m50\u001b[0m\u001b[0;34m)\u001b[0m\u001b[0;34m\u001b[0m\u001b[0;34m\u001b[0m\u001b[0m\n\u001b[0m\u001b[1;32m      3\u001b[0m \u001b[0mbst\u001b[0m\u001b[0;34m.\u001b[0m\u001b[0minsert\u001b[0m\u001b[0;34m(\u001b[0m\u001b[0;36m30\u001b[0m\u001b[0;34m)\u001b[0m\u001b[0;34m\u001b[0m\u001b[0;34m\u001b[0m\u001b[0m\n\u001b[1;32m      4\u001b[0m \u001b[0mbst\u001b[0m\u001b[0;34m.\u001b[0m\u001b[0minsert\u001b[0m\u001b[0;34m(\u001b[0m\u001b[0;36m20\u001b[0m\u001b[0;34m)\u001b[0m\u001b[0;34m\u001b[0m\u001b[0;34m\u001b[0m\u001b[0m\n",
            "\u001b[0;32m<ipython-input-20-03d83c522b72>\u001b[0m in \u001b[0;36minsert\u001b[0;34m(self, value)\u001b[0m\n\u001b[1;32m      4\u001b[0m \u001b[0;34m\u001b[0m\u001b[0m\n\u001b[1;32m      5\u001b[0m     \u001b[0;32mdef\u001b[0m \u001b[0minsert\u001b[0m\u001b[0;34m(\u001b[0m\u001b[0mself\u001b[0m\u001b[0;34m,\u001b[0m \u001b[0mvalue\u001b[0m\u001b[0;34m)\u001b[0m\u001b[0;34m:\u001b[0m\u001b[0;34m\u001b[0m\u001b[0;34m\u001b[0m\u001b[0m\n\u001b[0;32m----> 6\u001b[0;31m         \u001b[0;32mif\u001b[0m \u001b[0mself\u001b[0m\u001b[0;34m.\u001b[0m\u001b[0m__root\u001b[0m \u001b[0;34m==\u001b[0m \u001b[0;32mNone\u001b[0m\u001b[0;34m:\u001b[0m\u001b[0;34m\u001b[0m\u001b[0;34m\u001b[0m\u001b[0m\n\u001b[0m\u001b[1;32m      7\u001b[0m             \u001b[0mself\u001b[0m\u001b[0;34m.\u001b[0m\u001b[0m__root\u001b[0m \u001b[0;34m=\u001b[0m \u001b[0mNodoArbol\u001b[0m\u001b[0;34m(\u001b[0m\u001b[0mvalue\u001b[0m\u001b[0;34m,\u001b[0m \u001b[0;32mNone\u001b[0m\u001b[0;34m,\u001b[0m \u001b[0;32mNone\u001b[0m\u001b[0;34m)\u001b[0m\u001b[0;34m\u001b[0m\u001b[0;34m\u001b[0m\u001b[0m\n\u001b[1;32m      8\u001b[0m         \u001b[0;32melse\u001b[0m\u001b[0;34m:\u001b[0m\u001b[0;34m\u001b[0m\u001b[0;34m\u001b[0m\u001b[0m\n",
            "\u001b[0;31mAttributeError\u001b[0m: 'BinarySearchTree' object has no attribute '_BinarySearchTree__root'"
          ]
        }
      ]
    }
  ]
}