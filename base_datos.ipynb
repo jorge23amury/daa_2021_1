{
  "nbformat": 4,
  "nbformat_minor": 0,
  "metadata": {
    "colab": {
      "name": "base_datos.ipynb",
      "provenance": [],
      "authorship_tag": "ABX9TyPEGVQgQIjYlt7VZCTat15c",
      "include_colab_link": true
    },
    "kernelspec": {
      "name": "python3",
      "display_name": "Python 3"
    }
  },
  "cells": [
    {
      "cell_type": "markdown",
      "metadata": {
        "id": "view-in-github",
        "colab_type": "text"
      },
      "source": [
        "<a href=\"https://colab.research.google.com/github/jorge23amury/daa_2021_1/blob/master/base_datos.ipynb\" target=\"_parent\"><img src=\"https://colab.research.google.com/assets/colab-badge.svg\" alt=\"Open In Colab\"/></a>"
      ]
    },
    {
      "cell_type": "markdown",
      "metadata": {
        "id": "piHADFOv6g2W"
      },
      "source": [
        "# Planteamiento del problema:\r\n",
        "\r\n",
        "El siguiente código se puede considerar la simulación de una pequeña base de datos de alumnos, se encuentra implementado con diccionarios dentro de una lista python.\r\n",
        "\r\n",
        "\r\n",
        "Se puede observar que los alumnos estan ordenados por la llave 'id'.\r\n",
        "\r\n",
        "El objetivo de la tarea es realizar busquedas empleando el algoritmo de **Búsqueda binaria recursiva.**\r\n",
        "\r\n",
        "El programa debe solicitar el id a buscar. Posteriormente debe buscar(en la lista bd) el alumno en la base de datos y de existir, mostrará la información completa del alumno como en el siguiente,\r\n",
        "### ejemplo 1:\r\n",
        "\r\n",
        "\r\n",
        "¿Dame el id del alumno a buscar?: 16\r\n",
        "\r\n",
        "Resultado:\r\n",
        "Diana estudia la carrera DER y tiene un promedio de 9.9\r\n",
        "\r\n",
        "\r\n",
        "### ejemplo 2:\r\n",
        "¿Dame el id del alumno a buscar?: 15\r\n",
        "\r\n",
        "Resultado:\r\n",
        "El alumno no existe en la base de datos."
      ]
    },
    {
      "cell_type": "code",
      "metadata": {
        "id": "uHYgYsqsQV3S"
      },
      "source": [
        "\r\n",
        "\r\n",
        "alumno1 = {'id':2, 'nombre':\"Juan\" , 'carrera':\"ICO\", 'promedio':7.67}\r\n",
        "alumno2 = {'id':4, 'nombre':\"Rocio\" , 'carrera':\"ICI\", 'promedio':8.67}\r\n",
        "alumno3 = {'id':5, 'nombre':\"Diego\" , 'carrera':\"DER\", 'promedio':8.98}\r\n",
        "alumno4 = {'id':7, 'nombre':\"May\" , 'carrera':\"ICI\", 'promedio':9.87}\r\n",
        "alumno5 = {'id':9, 'nombre':\"Rob\" , 'carrera':\"IME\", 'promedio':10.00}\r\n",
        "alumno6 = {'id':10, 'nombre':\"Santi\" , 'carrera':\"ICO\", 'promedio':5.37}\r\n",
        "alumno7 = {'id':14, 'nombre':\"Moy\" , 'carrera':\"IME\", 'promedio':6.85}\r\n",
        "alumno8 = {'id':16, 'nombre':\"Diana\" , 'carrera':\"DER\", 'promedio':9.99}\r\n",
        "alumno9 = {'id':19, 'nombre':\"Zoila\" , 'carrera':\"ICO\", 'promedio':8.22}\r\n",
        "alumno10 = {'id':22, 'nombre':\"Armando\" , 'carrera':\"ICO\", 'promedio':7.32}\r\n",
        "\r\n",
        "bd = []\r\n",
        "bd.append(alumno1)\r\n",
        "bd.append(alumno2)\r\n",
        "bd.append(alumno3)\r\n",
        "bd.append(alumno4)\r\n",
        "bd.append(alumno5)\r\n",
        "bd.append(alumno6)\r\n",
        "bd.append(alumno7)\r\n",
        "bd.append(alumno8)\r\n",
        "bd.append(alumno9)\r\n",
        "bd.append(alumno10)\r\n",
        "\r\n",
        "def bbinaria_recursiva( a, valor, izq , der):\r\n",
        "    mid = (izq + der) //2\r\n",
        "    if izq >= der:\r\n",
        "        return -1\r\n",
        "    if a[mid] == valor: \r\n",
        "        return mid\r\n",
        "    elif a[mid] < valor:\r\n",
        "        return bbinaria_recursiva(a,valor,mid+1,der)\r\n",
        "    else:\r\n",
        "        return bbinaria_recursiva(a,valor,izq,mid)\r\n",
        "\r\n",
        "id = []\r\n",
        "for i in range(0,len(bd)):\r\n",
        "  id_e=bd[i].get('id')\r\n",
        "  id.append(id_e)\r\n",
        "\r\n",
        "id_b = int(input(\"Por Favor ingrese la identificacion (id) que desea buscar: \"))\r\n",
        "alumno = bbinaria_recursiva( id , id_b, 0 , len(bd))\r\n",
        "\r\n",
        "if alumno ==-1:\r\n",
        "  print(\"El alumno no existe en la base de datos.\")\r\n",
        "else:  \r\n",
        "  print(f\"{bd[alumno].get('nombre')} estudia la carrera {bd[alumno].get('carrera')} y tiene un promedio de {bd[alumno].get('promedio')}.\\n\")\r\n",
        "\r\n",
        "repetir = input(\"¿Quiere seguir buscando con otra id [Y/N]: \\n\")  \r\n",
        "\r\n",
        "while repetir == repetir =='y' or repetir ==' yes' or repetir == 'Y' or repetir == 'Yes':\r\n",
        "  id_b=int(input(\"\\nInserta el id del alumno a buscar: \"))\r\n",
        "  alumno=busqueda_binaria_recursiva( id , id_b, 0 , len(bd))\r\n",
        "\r\n",
        "  if alumno==-1:\r\n",
        "    print(\"El alumno no existe en la base de datos.\\n\")\r\n",
        "  else:  \r\n",
        "    print(f\"{bd[alumno].get('nombre')} estudia la carrera {bd[alumno].get('carrera')} y tiene un promedio de {bd[alumno].get('promedio')}.\\n\")\r\n",
        "\r\n",
        "  repetir=input(\"¿Desea buscar otro id? [Y/N]: \\n\")"
      ],
      "execution_count": null,
      "outputs": []
    }
  ]
}