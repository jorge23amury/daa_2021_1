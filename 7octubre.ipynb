{
  "nbformat": 4,
  "nbformat_minor": 0,
  "metadata": {
    "colab": {
      "name": "Untitled0.ipynb",
      "provenance": [],
      "collapsed_sections": [],
      "authorship_tag": "ABX9TyN86Qqp8PDYjxNbzwjfsu+h",
      "include_colab_link": true
    },
    "kernelspec": {
      "name": "python3",
      "display_name": "Python 3"
    }
  },
  "cells": [
    {
      "cell_type": "markdown",
      "metadata": {
        "id": "view-in-github",
        "colab_type": "text"
      },
      "source": [
        "<a href=\"https://colab.research.google.com/github/jorge23amury/daa_2021_1/blob/master/7octubre.ipynb\" target=\"_parent\"><img src=\"https://colab.research.google.com/assets/colab-badge.svg\" alt=\"Open In Colab\"/></a>"
      ]
    },
    {
      "cell_type": "code",
      "metadata": {
        "id": "tRl0KFiHSd1f"
      },
      "source": [
        ""
      ],
      "execution_count": null,
      "outputs": []
    },
    {
      "cell_type": "markdown",
      "metadata": {
        "id": "yEj08LTUSpCp"
      },
      "source": [
        "# Busqueda lineal\n",
        "\n",
        "dada un conjunto de datos no ordenados, la busqueda lineal consiste en recorrer el conjunto de datos desde el incio al final, moviendose de uno en uno hasta encontrar el elemento o al final del conjunto.\n",
        "\n",
        "datos = [4, 18, 47, 2, 34, 14, 78, 12, 48, 21, 31, 19, 1, 3, 5]\n",
        "\n",
        "#Busqueda Binario\n",
        "\n",
        "Esta funciona sobre un conjunto de datos lineal ordenado.\n",
        "Consiste en dividir el conjunto en mitades y buscar en esa mitad, si el elemento buscado no esta en lamitad, preguntas si el elemento esta a la derecha o a la izquierda.\n",
        "Haces la lista igual a la mitad correspondiente y repites el proceso.\n",
        "\n",
        "L = [1, 2, 3, 4, 5, 12, 14, 18, 19, 21, 31, 34, 47, 48, 78]\n",
        "DER = longitud(L)-1\n",
        "IZQ = 0\n",
        "\n",
        "MID apuntara a la mitad del segemeto de busqueda\n",
        "\n",
        "buscado : es el valor a buscar(47)\n",
        "\n",
        "1. Hacer DER = longitud(L)-1\n",
        "1. Hacer IZQ = 0\n",
        "1. su IZQ > DER significa que hay un error en los datos\n",
        "1. calcular MID = int ((IZQ + DER) / 2 )\n",
        "1. mientras L [MID] != buscado hacer\n",
        "1.         preguntar L[MID] > buscado\n",
        "                -  hacer DER = mid\n",
        "                 - de lo contrario\n",
        "                 - hacer IZQ = mid\n",
        "                 - preguntar (DER - IZQ) %2\n",
        "                   -  MID = (IZQ + ((DER - IZQ) / 2))+1\n",
        "                   - de lo contrario\n",
        "                   -  MID = IZQ + ((DER - IZQ) / 2)\n",
        "1. return MID\n"
      ]
    },
    {
      "cell_type": "code",
      "metadata": {
        "id": "Nx26wDX5Tj2d",
        "outputId": "05bbcf30-c772-4235-fa8b-6a8cea32e47f",
        "colab": {
          "base_uri": "https://localhost:8080/",
          "height": 128
        }
      },
      "source": [
        "\"\"\"\n",
        "Busqueda Lineal\n",
        "regresa la posicion del elemento 'buscado' si se encuentra dentro de la lista.\n",
        "regresa -1 si el elemento buscado no existe dentro de la lista.\n",
        "\"\"\"\n",
        "\n",
        "def busqueda_lineal(L, buscado) : \n",
        "    resultado = -1\n",
        "    indice = -1\n",
        "    contador = 0\n",
        "    for idx in range(len(L)):\n",
        "        contador += 1\n",
        "        if L[idx] == buscado:\n",
        "            indice = idx\n",
        "            break\n",
        "    print(\"Numero de operaciones realizadas: \",contador)\n",
        "    return indice \n",
        "\n",
        "    \"\"\"\n",
        "    Busqueda binaria\n",
        "    \"\"\"\n",
        "def busqueda_binaria (L, buscado):\n",
        "    IZQ = 0\n",
        "    DER = len(L)-1\n",
        "    MID = int(( IZQ + DER) /2)\n",
        "    if len(L) % 2 ==0 :\n",
        "        MID = (DER // 2 )+ 1\n",
        "    else:\n",
        "        MID = DER //2\n",
        "    \n",
        "    while (L[MID] != buscado):\n",
        "        if L[MID] > buscado:\n",
        "            DER = MID\n",
        "        else:\n",
        "            IZQ = MID\n",
        "        if (DER - IZQ) % 2 ==0:\n",
        "            MID = (IZQ + ((DER - IZQ) // 2)+1\n",
        "        else:\n",
        "            MID = IZQ + ((DER - IZQ) // 2)\n",
        "    return MID\n",
        "\n",
        "\n",
        "def main():\n",
        "    datos = [4, 18, 47, 2, 34, 14, 78, 12, 48, 21, 31, 19, 1, 3, 5]\n",
        "    dato = print(input(\"Que valor quieres buscar: \"))\n",
        "    resultado = busqueda_lineal(datos, dato)\n",
        "    print(\"Resultado: \", resultado)\n",
        "\n",
        "    print(\"Busqueda lineal en una lista ordenada\")\n",
        "    datos.sort()\n",
        "    print(datos)\n",
        "    resultado = busqueda_lineal( datos, dato)\n",
        "    print(\"Resultado: \",resultado)\n",
        "\n",
        "    print(\"busqueda binaria\")\n",
        "    posicion = busqueda_binaria( datos, dato)\n",
        "    print( f\"El elemento {dato} esta el posicion {posicion} de la lista\")\n",
        "\n",
        "main()"
      ],
      "execution_count": 15,
      "outputs": [
        {
          "output_type": "error",
          "ename": "SyntaxError",
          "evalue": "ignored",
          "traceback": [
            "\u001b[0;36m  File \u001b[0;32m\"<ipython-input-15-aa0bbd8b18b7>\"\u001b[0;36m, line \u001b[0;32m38\u001b[0m\n\u001b[0;31m    else:\u001b[0m\n\u001b[0m       ^\u001b[0m\n\u001b[0;31mSyntaxError\u001b[0m\u001b[0;31m:\u001b[0m invalid syntax\n"
          ]
        }
      ]
    }
  ]
}