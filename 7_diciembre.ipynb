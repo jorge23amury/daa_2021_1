{
  "nbformat": 4,
  "nbformat_minor": 0,
  "metadata": {
    "colab": {
      "name": "2_diciembre.ipynb",
      "provenance": [],
      "authorship_tag": "ABX9TyMMNeBK0IHe9+Wzi/KxghZ1",
      "include_colab_link": true
    },
    "kernelspec": {
      "name": "python3",
      "display_name": "Python 3"
    }
  },
  "cells": [
    {
      "cell_type": "markdown",
      "metadata": {
        "id": "view-in-github",
        "colab_type": "text"
      },
      "source": [
        "<a href=\"https://colab.research.google.com/github/jorge23amury/daa_2021_1/blob/master/7_diciembre.ipynb\" target=\"_parent\"><img src=\"https://colab.research.google.com/assets/colab-badge.svg\" alt=\"Open In Colab\"/></a>"
      ]
    },
    {
      "cell_type": "code",
      "metadata": {
        "colab": {
          "base_uri": "https://localhost:8080/"
        },
        "id": "DBIhqDS4AWvH",
        "outputId": "0e4c3c33-fa6f-4f5a-b61b-380d72aa02d8"
      },
      "source": [
        "def fnRec(x):\n",
        "    if x==0:\n",
        "        print(\"Stop\")\n",
        "    else:\n",
        "        print(x)\n",
        "        fnRec(x -1)\n",
        "        #print(x)\n",
        "def main ():\n",
        "    print(\"Inicio del programa\")\n",
        "    fnRec(5)\n",
        "    print(\"FIn del Programa\")\n",
        "main()"
      ],
      "execution_count": null,
      "outputs": [
        {
          "output_type": "stream",
          "text": [
            "Inicio del programa\n",
            "5\n",
            "4\n",
            "3\n",
            "2\n",
            "1\n",
            "Stop\n",
            "FIn del Programa\n"
          ],
          "name": "stdout"
        }
      ]
    },
    {
      "cell_type": "code",
      "metadata": {
        "colab": {
          "base_uri": "https://localhost:8080/"
        },
        "id": "UBIlAt-nBen7",
        "outputId": "a6de8a0d-ddbc-4082-b7b5-d710c29570da"
      },
      "source": [
        "def printRev(x):\n",
        "    if x > 0:\n",
        "        print(x)\n",
        "        printRev(x - 1)\n",
        "        print(x)\n",
        "\n",
        "\n",
        "printRev(3)"
      ],
      "execution_count": null,
      "outputs": [
        {
          "output_type": "stream",
          "text": [
            "3\n",
            "2\n",
            "1\n",
            "1\n",
            "2\n",
            "3\n"
          ],
          "name": "stdout"
        }
      ]
    },
    {
      "cell_type": "code",
      "metadata": {
        "colab": {
          "base_uri": "https://localhost:8080/"
        },
        "id": "LFwUIdUXAq_0",
        "outputId": "3d5e91ad-5744-4ec3-ca81-bdb51090f164"
      },
      "source": [
        "def fibonacci( n ):\n",
        "    print(\"Llamada :\", n)\n",
        "    if n==1 or n==0 :\n",
        "        return n\n",
        "    else:\n",
        "        return(fibonacci(n-1) + fibonacci(n-2))\n",
        "\n",
        "print(fibonacci(7))"
      ],
      "execution_count": 5,
      "outputs": [
        {
          "output_type": "stream",
          "text": [
            "Llamada : 7\n",
            "Llamada : 6\n",
            "Llamada : 5\n",
            "Llamada : 4\n",
            "Llamada : 3\n",
            "Llamada : 2\n",
            "Llamada : 1\n",
            "Llamada : 0\n",
            "Llamada : 1\n",
            "Llamada : 2\n",
            "Llamada : 1\n",
            "Llamada : 0\n",
            "Llamada : 3\n",
            "Llamada : 2\n",
            "Llamada : 1\n",
            "Llamada : 0\n",
            "Llamada : 1\n",
            "Llamada : 4\n",
            "Llamada : 3\n",
            "Llamada : 2\n",
            "Llamada : 1\n",
            "Llamada : 0\n",
            "Llamada : 1\n",
            "Llamada : 2\n",
            "Llamada : 1\n",
            "Llamada : 0\n",
            "Llamada : 5\n",
            "Llamada : 4\n",
            "Llamada : 3\n",
            "Llamada : 2\n",
            "Llamada : 1\n",
            "Llamada : 0\n",
            "Llamada : 1\n",
            "Llamada : 2\n",
            "Llamada : 1\n",
            "Llamada : 0\n",
            "Llamada : 3\n",
            "Llamada : 2\n",
            "Llamada : 1\n",
            "Llamada : 0\n",
            "Llamada : 1\n",
            "13\n"
          ],
          "name": "stdout"
        }
      ]
    },
    {
      "cell_type": "code",
      "metadata": {
        "colab": {
          "base_uri": "https://localhost:8080/"
        },
        "id": "XIjd4c_hEx6I",
        "outputId": "863ebbf8-42de-47cb-b1c2-90f4db10e8d6"
      },
      "source": [
        "def conteo_regresivo(x):\n",
        "    if x > 0:\n",
        "        print(x)\n",
        "        conteo_regresivo(x - 1)\n",
        "\n",
        "\n",
        "conteo_regresivo(10)"
      ],
      "execution_count": null,
      "outputs": [
        {
          "output_type": "stream",
          "text": [
            "10\n",
            "9\n",
            "8\n",
            "7\n",
            "6\n",
            "5\n",
            "4\n",
            "3\n",
            "2\n",
            "1\n"
          ],
          "name": "stdout"
        }
      ]
    },
    {
      "cell_type": "code",
      "metadata": {
        "colab": {
          "base_uri": "https://localhost:8080/"
        },
        "id": "oT0hW3-jQve6",
        "outputId": "5f8a4c03-c4b7-42b5-ba05-be56d74dca16"
      },
      "source": [
        "def suma(x):\n",
        "    if len(x) == 0:\n",
        "        return 0\n",
        "    else:\n",
        "        n = x.pop()\n",
        "        n1 = suma(x)\n",
        "        n += n1\n",
        "        return n \n",
        "\n",
        "\n",
        "lista_suma = [1, 2, 3, 4, 5]\n",
        "print(lista_suma)\n",
        "print(f\"El resultado de la suma es:\",suma(lista_suma))\n",
        "\n"
      ],
      "execution_count": null,
      "outputs": [
        {
          "output_type": "stream",
          "text": [
            "[1, 2, 3, 4, 5]\n",
            "El resultado de la suma es: 15\n"
          ],
          "name": "stdout"
        }
      ]
    },
    {
      "cell_type": "code",
      "metadata": {
        "id": "YPXGQRSCecFV"
      },
      "source": [
        "class Pila:\n",
        "     def __init__(self):\n",
        "         self.items = []\n",
        "\n",
        "     def estaVacia(self):\n",
        "         return self.items == []\n",
        "\n",
        "     def push(self, item):\n",
        "         self.items.append(item)\n",
        "\n",
        "     def pop(self):\n",
        "         return self.items.pop()\n",
        "\n",
        "     def inspeccionar(self):\n",
        "         return self.items[len(self.items)-1]\n",
        "\n",
        "     def lenght(self):\n",
        "         return len(self.items)\n",
        "\n",
        "     def to_String(self):\n",
        "         print(\"-----\")\n",
        "         for dato in self.items[::-1] :\n",
        "             print(f\" | { dato } |\")\n",
        "             print(\"-----\")"
      ],
      "execution_count": null,
      "outputs": []
    },
    {
      "cell_type": "code",
      "metadata": {
        "colab": {
          "base_uri": "https://localhost:8080/"
        },
        "id": "TEXGj1Q_c5ME",
        "outputId": "be9ce949-3df6-4b4b-9ec3-67cecdbe082e"
      },
      "source": [
        "\n",
        "\n",
        "\n",
        "\n",
        "def posicion_media(p,t):\n",
        "    if t//2 == p.lenght()-1:\n",
        "        print(f\"El valor medio es:\", p.pop())\n",
        "    else:\n",
        "        n = p.pop()\n",
        "        posicion_media(p, t)\n",
        "        p.push(n)\n",
        "\n",
        "p = Pila()\n",
        "p.push(1)\n",
        "p.push(2)\n",
        "p.push(3)  #<--- valor medio \n",
        "p.push(4)\n",
        "p.push(5)\n",
        "\n",
        "p.to_String()\n",
        "print(\"----\")\n",
        "posicion_media(p,p.lenght())\n",
        "print(\"----\")\n",
        "p.to_String()"
      ],
      "execution_count": null,
      "outputs": [
        {
          "output_type": "stream",
          "text": [
            "-----\n",
            " | 5 |\n",
            "-----\n",
            " | 4 |\n",
            "-----\n",
            " | 3 |\n",
            "-----\n",
            " | 2 |\n",
            "-----\n",
            " | 1 |\n",
            "-----\n",
            "----\n",
            "El valor medio es: 3\n",
            "----\n",
            "-----\n",
            " | 5 |\n",
            "-----\n",
            " | 4 |\n",
            "-----\n",
            " | 2 |\n",
            "-----\n",
            " | 1 |\n",
            "-----\n"
          ],
          "name": "stdout"
        }
      ]
    }
  ]
}