{
  "nbformat": 4,
  "nbformat_minor": 0,
  "metadata": {
    "colab": {
      "name": "11_enero.ipynb",
      "provenance": [],
      "collapsed_sections": [],
      "authorship_tag": "ABX9TyP10XcJ2R8ZMRtqA5Cm6Dcf",
      "include_colab_link": true
    },
    "kernelspec": {
      "name": "python3",
      "display_name": "Python 3"
    }
  },
  "cells": [
    {
      "cell_type": "markdown",
      "metadata": {
        "id": "view-in-github",
        "colab_type": "text"
      },
      "source": [
        "<a href=\"https://colab.research.google.com/github/jorge23amury/daa_2021_1/blob/master/11_enero.ipynb\" target=\"_parent\"><img src=\"https://colab.research.google.com/assets/colab-badge.svg\" alt=\"Open In Colab\"/></a>"
      ]
    },
    {
      "cell_type": "code",
      "metadata": {
        "id": "j-Tp7p5-5ZZ5"
      },
      "source": [
        "class NodoArbol:\r\n",
        "    def __init__(self, value, left = None, rigth = None):\r\n",
        "        self.data = value\r\n",
        "        self.left = left\r\n",
        "        self.rigth = rigth\r\n",
        "        "
      ],
      "execution_count": 1,
      "outputs": []
    },
    {
      "cell_type": "code",
      "metadata": {
        "colab": {
          "base_uri": "https://localhost:8080/"
        },
        "id": "2IBTCDOx8tbU",
        "outputId": "d8f0d382-d5c1-4780-dabb-8938e1e9b892"
      },
      "source": [
        "arbol = NodoArbol(\"R\", NodoArbol(\"C\"), NodoArbol(\"H\")  )\r\n",
        "print(arbol.left.data)\r\n",
        "print(arbol.rigth.data)\r\n",
        "print(arbol.data)\r\n"
      ],
      "execution_count": 4,
      "outputs": [
        {
          "output_type": "stream",
          "text": [
            "C\n",
            "H\n",
            "R\n"
          ],
          "name": "stdout"
        }
      ]
    },
    {
      "cell_type": "code",
      "metadata": {
        "id": "4LD-E6PR9uy9"
      },
      "source": [
        "nodo1 = NodoArbol(\"C\")\r\n",
        "nodo2 = NodoArbol(\"H\")\r\n",
        "arbol_v2 = NodoArbol(\"R\", nodo1, nodo2)"
      ],
      "execution_count": 6,
      "outputs": []
    },
    {
      "cell_type": "code",
      "metadata": {
        "colab": {
          "base_uri": "https://localhost:8080/"
        },
        "id": "1oMIa2Da-cQL",
        "outputId": "d6ff9e36-67eb-43a2-91bb-9b5b3b6a835a"
      },
      "source": [
        "print(arbol.rigth.data)\r\n",
        "print(arbol_v2.rigth.data)"
      ],
      "execution_count": 7,
      "outputs": [
        {
          "output_type": "stream",
          "text": [
            "H\n",
            "H\n"
          ],
          "name": "stdout"
        }
      ]
    },
    {
      "cell_type": "code",
      "metadata": {
        "id": "_86U4Q6E-91l"
      },
      "source": [
        "arbol2 = NodoArbol(4,NodoArbol(3, NodoArbol(2, NodoArbol(2))), NodoArbol(5))\r\n",
        "print(arbol2.left.left.left.data)\r\n"
      ],
      "execution_count": null,
      "outputs": []
    },
    {
      "cell_type": "code",
      "metadata": {
        "colab": {
          "base_uri": "https://localhost:8080/"
        },
        "id": "BHzd9qlQEEnh",
        "outputId": "5115d505-8a5c-4511-fab0-1acac9a0e615"
      },
      "source": [
        "aux = arbol2\r\n",
        "while aux.left != None:\r\n",
        "    aux = aux.left\r\n",
        "    print(aux.data)\r\n",
        "\r\n",
        "    aux1 = arbol2\r\n",
        "while aux1.rigth != None:\r\n",
        "    aux1 = aux1.rigth\r\n",
        "    print(aux1.data)"
      ],
      "execution_count": 12,
      "outputs": [
        {
          "output_type": "stream",
          "text": [
            "3\n",
            "2\n",
            "2\n",
            "5\n"
          ],
          "name": "stdout"
        }
      ]
    },
    {
      "cell_type": "code",
      "metadata": {
        "id": "zcWXtfyEEm0G"
      },
      "source": [
        "arbol3 = NodoArbol(\"Santi\", None, NodoArbol(\"Jesus\"))"
      ],
      "execution_count": null,
      "outputs": []
    }
  ]
}