{
  "nbformat": 4,
  "nbformat_minor": 0,
  "metadata": {
    "colab": {
      "name": "5octubre.ipynb",
      "provenance": [],
      "collapsed_sections": [],
      "authorship_tag": "ABX9TyNGBHNbhMvlhsWAVklY6tEV",
      "include_colab_link": true
    },
    "kernelspec": {
      "name": "python3",
      "display_name": "Python 3"
    }
  },
  "cells": [
    {
      "cell_type": "markdown",
      "metadata": {
        "id": "view-in-github",
        "colab_type": "text"
      },
      "source": [
        "<a href=\"https://colab.research.google.com/github/jorge23amury/daa_2021_1/blob/master/5octubre.ipynb\" target=\"_parent\"><img src=\"https://colab.research.google.com/assets/colab-badge.svg\" alt=\"Open In Colab\"/></a>"
      ]
    },
    {
      "cell_type": "markdown",
      "metadata": {
        "id": "AjeNBOG6Br7r"
      },
      "source": [
        "# Estructura de datos Pilas (stack)\n",
        "- Last in FIrts Out (LIFO)\n",
        "- de tipo lineal \n",
        "- se pueden obtener e ingresar datos desde el tope\n",
        "- push para agregar\n",
        "- pop para sacar\n",
        "\n",
        "## Operaciones de las pilas\n",
        "\n",
        "1. is_empty (regresa true o false)\n",
        "1. get_top (regresa el elemento en el tope SIN SACARLO)\n",
        "1. pop (saca el elemento del topoe y lo regresa)\n",
        "1. push (mete un elemento en el tope)\n",
        "1. get_lengeth (regresa el numero de elementos de pila)"
      ]
    },
    {
      "cell_type": "code",
      "metadata": {
        "id": "3qg5TMxZCi9R"
      },
      "source": [
        "class Stack:\n",
        "  def __init__( self):\n",
        "    self.__datos = []\n",
        "\n",
        "  def is_empty ( self ):\n",
        "    return len(self.__datos) == 0\n",
        "\n",
        "  def get_top( self):\n",
        "    return self.__datos[-1]\n",
        "\n",
        "  def pop( self):\n",
        "    return sel.__datos.pop()\n",
        "\n",
        "  def push( self , valor):\n",
        "    self.__datos.append( valor)\n",
        "\n",
        "  def get_lengeth( self):\n",
        "    return len(self.__datos)\n",
        "\n",
        "  def to_string (self):\n",
        "    print(\"----------------\")\n",
        "    for ele in self.datos[-1 : : 1]:\n",
        "      print(f\" { ele } \")\n",
        "      print(\"-------------\") "
      ],
      "execution_count": 27,
      "outputs": []
    },
    {
      "cell_type": "code",
      "metadata": {
        "id": "IDzr7DB1QfGj"
      },
      "source": [
        " pila1 = Stack()\n",
        " pila1.push(10)\n",
        " pila1.push(20)\n",
        " pila1.push(1)\n",
        " pila1.push(393)\n",
        " pila1.push(103)\n",
        " pila1.to_string()\n",
        " sacado = pila1.pop()\n",
        " print(sacado)\n",
        " pila1.to_string()\n",
        "\n",
        " print(f\"El elemento en el tope es:{pila1.get_top()}\")\n",
        " pila1.to_string()\n",
        " print(f\"La pila tiene {pila1.get_lengeth()} elementos\")\n",
        " print(f\"La pila esta vacia?{ pila1.is_empty()}\")"
      ],
      "execution_count": null,
      "outputs": []
    },
    {
      "cell_type": "markdown",
      "metadata": {
        "id": "N5xQLuUOJNXj"
      },
      "source": [
        "# ejemplo de aplicacion de pilas\n",
        "\n",
        "x = 4 + 5 + 6 + 3\n",
        "\n",
        "x= 4 + (5 + 6) + 3\n",
        "\n",
        "x= 4 + 5 + 6) + 3\n",
        "\n",
        "if(a==b) { system.out.println(b)\n",
        "\n",
        "if(a==b) { System.out.println(b)\n",
        "\n",
        "# reglas\n",
        "### '(' -----> push ('@')\n",
        "#### ')' ----> pop ()\n",
        "SI al final del recorrido la pila esta vacia, entonces la cadena es correcta.\n",
        "\n",
        "Si un pop desencadena en querer sacar un elemento de la pila vacia significa que la cadena no esta balanceado.\n"
      ]
    }
  ]
}