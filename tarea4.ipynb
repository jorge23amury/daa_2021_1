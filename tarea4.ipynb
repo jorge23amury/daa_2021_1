{
  "nbformat": 4,
  "nbformat_minor": 0,
  "metadata": {
    "colab": {
      "name": "tarea4.ipynb",
      "provenance": [],
      "authorship_tag": "ABX9TyMBGfkzgVf9YNnFayBuvjuv",
      "include_colab_link": true
    },
    "kernelspec": {
      "name": "python3",
      "display_name": "Python 3"
    }
  },
  "cells": [
    {
      "cell_type": "markdown",
      "metadata": {
        "id": "view-in-github",
        "colab_type": "text"
      },
      "source": [
        "<a href=\"https://colab.research.google.com/github/jorge23amury/daa_2021_1/blob/master/tarea4.ipynb\" target=\"_parent\"><img src=\"https://colab.research.google.com/assets/colab-badge.svg\" alt=\"Open In Colab\"/></a>"
      ]
    },
    {
      "cell_type": "code",
      "metadata": {
        "id": "OE0eLwiAy7yR"
      },
      "source": [
        "def ejemplo4( n):\n",
        "    count = 0\n",
        "    i = n\n",
        "    print (\"nivel 1\")\n",
        "    while i>= 1:\n",
        "        count += 1\n",
        "        i = i // 2\n",
        "        print(\"nivel 2\")\n",
        "    basura = 3 + 2\n",
        "    return count"
      ],
      "execution_count": 9,
      "outputs": []
    }
  ]
}