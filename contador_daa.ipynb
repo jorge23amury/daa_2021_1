{
  "nbformat": 4,
  "nbformat_minor": 0,
  "metadata": {
    "colab": {
      "name": "contador_daa.ipynb",
      "provenance": [],
      "collapsed_sections": [],
      "authorship_tag": "ABX9TyOKJVfCYM3EfmEskhQM2SEv",
      "include_colab_link": true
    },
    "kernelspec": {
      "name": "python3",
      "display_name": "Python 3"
    }
  },
  "cells": [
    {
      "cell_type": "markdown",
      "metadata": {
        "id": "view-in-github",
        "colab_type": "text"
      },
      "source": [
        "<a href=\"https://colab.research.google.com/github/jorge23amury/daa_2021_1/blob/master/contador_daa.ipynb\" target=\"_parent\"><img src=\"https://colab.research.google.com/assets/colab-badge.svg\" alt=\"Open In Colab\"/></a>"
      ]
    },
    {
      "cell_type": "code",
      "metadata": {
        "id": "n4SmyXrzeX_4",
        "colab": {
          "base_uri": "https://localhost:8080/"
        },
        "outputId": "3dc48587-96a2-4696-f11b-e4773cc46e3e"
      },
      "source": [
        "lema = \"\"\"El lema que anima a la Universidad Nacional, Por mi raza hablará el espíritu, revela la vocación humanística \n",
        "con la que fue concebida. El autor de esta célebre frase, José Vasconcelos, asumió la rectoría en 1920, en una época en \n",
        "que las esperanzas de la Revolución aún estaban vivas, había una gran fe en la Patria y el ánimo redentor se extendía en el ambiente.\"\"\"\n",
        "\n",
        "quitar = \",;:-\\n!\\\"'´\"\n",
        "for caracter in quitar: #reemplazar los caracteres invalidos\n",
        "    lema = lema.replace(caracter,\n",
        "                          \"\")\n",
        "lema = lema.lower()\n",
        "\n",
        "\n",
        "palabras = lema.split(\" \")\n",
        "\n",
        "diccionario_frecuencia = {}\n",
        "for palabra in palabras:\n",
        "    if palabra in diccionario_frecuencia:\n",
        "        diccionario_frecuencia[palabra] += 1\n",
        "    else:\n",
        "        diccionario_frecuencia[palabra] = 1\n",
        "\n",
        "\n",
        "for palabra in diccionario_frecuencia:\n",
        "    frecuencia = diccionario_frecuencia[palabra]\n",
        "    print(f\"La palabra '{palabra}' se encuentra con un frecuencia de {frecuencia} veces.\")"
      ],
      "execution_count": 18,
      "outputs": [
        {
          "output_type": "stream",
          "text": [
            "La palabra 'el' se encuentra con un frecuencia de 5 veces.\n",
            "La palabra 'lema' se encuentra con un frecuencia de 1 veces.\n",
            "La palabra 'que' se encuentra con un frecuencia de 3 veces.\n",
            "La palabra 'anima' se encuentra con un frecuencia de 1 veces.\n",
            "La palabra 'a' se encuentra con un frecuencia de 1 veces.\n",
            "La palabra 'la' se encuentra con un frecuencia de 6 veces.\n",
            "La palabra 'universidad' se encuentra con un frecuencia de 1 veces.\n",
            "La palabra 'nacional' se encuentra con un frecuencia de 1 veces.\n",
            "La palabra 'por' se encuentra con un frecuencia de 1 veces.\n",
            "La palabra 'mi' se encuentra con un frecuencia de 1 veces.\n",
            "La palabra 'raza' se encuentra con un frecuencia de 1 veces.\n",
            "La palabra 'hablará' se encuentra con un frecuencia de 1 veces.\n",
            "La palabra 'espíritu' se encuentra con un frecuencia de 1 veces.\n",
            "La palabra 'revela' se encuentra con un frecuencia de 1 veces.\n",
            "La palabra 'vocación' se encuentra con un frecuencia de 1 veces.\n",
            "La palabra 'humanística' se encuentra con un frecuencia de 1 veces.\n",
            "La palabra 'con' se encuentra con un frecuencia de 1 veces.\n",
            "La palabra 'fue' se encuentra con un frecuencia de 1 veces.\n",
            "La palabra 'concebida.' se encuentra con un frecuencia de 1 veces.\n",
            "La palabra 'autor' se encuentra con un frecuencia de 1 veces.\n",
            "La palabra 'de' se encuentra con un frecuencia de 2 veces.\n",
            "La palabra 'esta' se encuentra con un frecuencia de 1 veces.\n",
            "La palabra 'célebre' se encuentra con un frecuencia de 1 veces.\n",
            "La palabra 'frase' se encuentra con un frecuencia de 1 veces.\n",
            "La palabra 'josé' se encuentra con un frecuencia de 1 veces.\n",
            "La palabra 'vasconcelos' se encuentra con un frecuencia de 1 veces.\n",
            "La palabra 'asumió' se encuentra con un frecuencia de 1 veces.\n",
            "La palabra 'rectoría' se encuentra con un frecuencia de 1 veces.\n",
            "La palabra 'en' se encuentra con un frecuencia de 5 veces.\n",
            "La palabra '1920' se encuentra con un frecuencia de 1 veces.\n",
            "La palabra 'una' se encuentra con un frecuencia de 2 veces.\n",
            "La palabra 'época' se encuentra con un frecuencia de 1 veces.\n",
            "La palabra 'las' se encuentra con un frecuencia de 1 veces.\n",
            "La palabra 'esperanzas' se encuentra con un frecuencia de 1 veces.\n",
            "La palabra 'revolución' se encuentra con un frecuencia de 1 veces.\n",
            "La palabra 'aún' se encuentra con un frecuencia de 1 veces.\n",
            "La palabra 'estaban' se encuentra con un frecuencia de 1 veces.\n",
            "La palabra 'vivas' se encuentra con un frecuencia de 1 veces.\n",
            "La palabra 'había' se encuentra con un frecuencia de 1 veces.\n",
            "La palabra 'gran' se encuentra con un frecuencia de 1 veces.\n",
            "La palabra 'fe' se encuentra con un frecuencia de 1 veces.\n",
            "La palabra 'patria' se encuentra con un frecuencia de 1 veces.\n",
            "La palabra 'y' se encuentra con un frecuencia de 1 veces.\n",
            "La palabra 'ánimo' se encuentra con un frecuencia de 1 veces.\n",
            "La palabra 'redentor' se encuentra con un frecuencia de 1 veces.\n",
            "La palabra 'se' se encuentra con un frecuencia de 1 veces.\n",
            "La palabra 'extendía' se encuentra con un frecuencia de 1 veces.\n",
            "La palabra 'ambiente.' se encuentra con un frecuencia de 1 veces.\n"
          ],
          "name": "stdout"
        }
      ]
    },
    {
      "cell_type": "markdown",
      "metadata": {
        "id": "DKFG8fV5eZjd"
      },
      "source": [
        "# Nueva sección"
      ]
    }
  ]
}