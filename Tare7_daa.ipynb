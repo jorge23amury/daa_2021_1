{
  "nbformat": 4,
  "nbformat_minor": 0,
  "metadata": {
    "colab": {
      "name": "Tare7_daa.ipynb",
      "provenance": [],
      "authorship_tag": "ABX9TyOcYfGTrTYcwMqctf7vDpXG",
      "include_colab_link": true
    },
    "kernelspec": {
      "name": "python3",
      "display_name": "Python 3"
    }
  },
  "cells": [
    {
      "cell_type": "markdown",
      "metadata": {
        "id": "view-in-github",
        "colab_type": "text"
      },
      "source": [
        "<a href=\"https://colab.research.google.com/github/jorge23amury/daa_2021_1/blob/master/Tare7_daa.ipynb\" target=\"_parent\"><img src=\"https://colab.research.google.com/assets/colab-badge.svg\" alt=\"Open In Colab\"/></a>"
      ]
    },
    {
      "cell_type": "code",
      "metadata": {
        "colab": {
          "base_uri": "https://localhost:8080/"
        },
        "id": "jAcqYZfDh9Uj",
        "outputId": "2f212bcc-bb60-4ff2-8ec6-9ace09857414"
      },
      "source": [
        "def conteo_regresivo(x):\n",
        "    if x > 0:\n",
        "        print(x)\n",
        "        conteo_regresivo(x - 1)\n",
        "\n",
        "\n",
        "conteo_regresivo(10)"
      ],
      "execution_count": 1,
      "outputs": [
        {
          "output_type": "stream",
          "text": [
            "10\n",
            "9\n",
            "8\n",
            "7\n",
            "6\n",
            "5\n",
            "4\n",
            "3\n",
            "2\n",
            "1\n"
          ],
          "name": "stdout"
        }
      ]
    },
    {
      "cell_type": "code",
      "metadata": {
        "colab": {
          "base_uri": "https://localhost:8080/"
        },
        "id": "0fdZsoq6iCTJ",
        "outputId": "f531e27a-8244-462f-d0d7-63777ef7d49d"
      },
      "source": [
        "def suma(x):\n",
        "    if len(x) == 0:\n",
        "        return 0\n",
        "    else:\n",
        "        n = x.pop()\n",
        "        n1 = suma(x)\n",
        "        n += n1\n",
        "        return n \n",
        "\n",
        "\n",
        "lista_suma = [1, 2, 3, 4, 5]\n",
        "print(lista_suma)\n",
        "print(f\"El resultado de la suma es:\",suma(lista_suma))\n",
        "\n"
      ],
      "execution_count": 2,
      "outputs": [
        {
          "output_type": "stream",
          "text": [
            "[1, 2, 3, 4, 5]\n",
            "El resultado de la suma es: 15\n"
          ],
          "name": "stdout"
        }
      ]
    },
    {
      "cell_type": "code",
      "metadata": {
        "id": "C5cReWIziFSD"
      },
      "source": [
        "class Pila:\n",
        "     def __init__(self):\n",
        "         self.items = []\n",
        "\n",
        "     def estaVacia(self):\n",
        "         return self.items == []\n",
        "\n",
        "     def push(self, item):\n",
        "         self.items.append(item)\n",
        "\n",
        "     def pop(self):\n",
        "         return self.items.pop()\n",
        "\n",
        "     def inspeccionar(self):\n",
        "         return self.items[len(self.items)-1]\n",
        "\n",
        "     def lenght(self):\n",
        "         return len(self.items)\n",
        "\n",
        "     def to_String(self):\n",
        "         print(\"-----\")\n",
        "         for dato in self.items[::-1] :\n",
        "             print(f\" | { dato } |\")\n",
        "             print(\"-----\")"
      ],
      "execution_count": 3,
      "outputs": []
    },
    {
      "cell_type": "code",
      "metadata": {
        "colab": {
          "base_uri": "https://localhost:8080/"
        },
        "id": "CkI6LPWliIfI",
        "outputId": "00c26e5a-74f8-416a-e8cf-5af7ccdcc50a"
      },
      "source": [
        "def posicion_media(p,t):\n",
        "    if t//2 == p.lenght()-1:\n",
        "        print(f\"El valor medio es:\", p.pop())\n",
        "    else:\n",
        "        n = p.pop()\n",
        "        posicion_media(p, t)\n",
        "        p.push(n)\n",
        "\n",
        "p = Pila()\n",
        "p.push(1)\n",
        "p.push(2)\n",
        "p.push(3)  #<--- valor medio \n",
        "p.push(4)\n",
        "p.push(5)\n",
        "\n",
        "p.to_String()\n",
        "print(\"----\")\n",
        "posicion_media(p,p.lenght())\n",
        "print(\"----\")\n",
        "p.to_String()"
      ],
      "execution_count": 4,
      "outputs": [
        {
          "output_type": "stream",
          "text": [
            "-----\n",
            " | 5 |\n",
            "-----\n",
            " | 4 |\n",
            "-----\n",
            " | 3 |\n",
            "-----\n",
            " | 2 |\n",
            "-----\n",
            " | 1 |\n",
            "-----\n",
            "----\n",
            "El valor medio es: 3\n",
            "----\n",
            "-----\n",
            " | 5 |\n",
            "-----\n",
            " | 4 |\n",
            "-----\n",
            " | 2 |\n",
            "-----\n",
            " | 1 |\n",
            "-----\n"
          ],
          "name": "stdout"
        }
      ]
    }
  ]
}