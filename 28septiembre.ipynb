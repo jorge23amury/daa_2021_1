{
  "nbformat": 4,
  "nbformat_minor": 0,
  "metadata": {
    "colab": {
      "name": "28septiembre.ipynb",
      "provenance": [],
      "toc_visible": true,
      "authorship_tag": "ABX9TyOGBXszN00i6nocl4nnlkL5",
      "include_colab_link": true
    },
    "kernelspec": {
      "name": "python3",
      "display_name": "Python 3"
    }
  },
  "cells": [
    {
      "cell_type": "markdown",
      "metadata": {
        "id": "view-in-github",
        "colab_type": "text"
      },
      "source": [
        "<a href=\"https://colab.research.google.com/github/jorge23amury/daa_2021_1/blob/master/28septiembre.ipynb\" target=\"_parent\"><img src=\"https://colab.research.google.com/assets/colab-badge.svg\" alt=\"Open In Colab\"/></a>"
      ]
    },
    {
      "cell_type": "code",
      "metadata": {
        "id": "VK4sYxZCCg-a"
      },
      "source": [
        ""
      ],
      "execution_count": null,
      "outputs": []
    },
    {
      "cell_type": "markdown",
      "metadata": {
        "id": "HT2JrjoJCsZP"
      },
      "source": [
        "# Sección 1\n"
      ]
    },
    {
      "cell_type": "markdown",
      "metadata": {
        "id": "ID8sXRq7C3F8"
      },
      "source": [
        "En este archivo aprenderemos a programar en Python con la herramienta de Google, colab.research\n",
        "\n",
        "Tambien aprenderemos a guardar nuestros cambios a nuestro repositorio de github.com\n"
      ]
    },
    {
      "cell_type": "markdown",
      "metadata": {
        "id": "jPEuZbfmD1fu"
      },
      "source": [
        "## Codigo de ejemplo\n",
        "**negritas**\n",
        "\n",
        "_italica_\n",
        "\n",
        "`edad = 10\n",
        "print (edad) `\n"
      ]
    },
    {
      "cell_type": "markdown",
      "metadata": {
        "id": "E7RShLETGi3J"
      },
      "source": [
        ""
      ]
    },
    {
      "cell_type": "code",
      "metadata": {
        "id": "94FWvJqxG7jb",
        "outputId": "d58e44df-4e2c-48b8-b8cc-f0ee6b42d4a5",
        "colab": {
          "base_uri": "https://localhost:8080/",
          "height": 34
        }
      },
      "source": [
        "frutas = []\n",
        "frutas.append('Manzana')\n",
        "frutas.append('Piña')\n",
        "frutas.append('kiwi')\n",
        "print (frutas)"
      ],
      "execution_count": 2,
      "outputs": [
        {
          "output_type": "stream",
          "text": [
            "['Manzana', 'Piña', 'kiwi']\n"
          ],
          "name": "stdout"
        }
      ]
    },
    {
      "cell_type": "code",
      "metadata": {
        "id": "iOfhQIbZHt21"
      },
      "source": [
        "archivo =open('prueba_daa.txt', 'wt')\n",
        "archivo.write(\"Hola Mundo Jupyter\")\n",
        "archivo.close()"
      ],
      "execution_count": 3,
      "outputs": []
    }
  ]
}