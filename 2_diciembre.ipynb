{
  "nbformat": 4,
  "nbformat_minor": 0,
  "metadata": {
    "colab": {
      "name": "2_diciembre.ipynb",
      "provenance": [],
      "authorship_tag": "ABX9TyMYXBa6cc4ZikG7vf8QjM4F",
      "include_colab_link": true
    },
    "kernelspec": {
      "name": "python3",
      "display_name": "Python 3"
    }
  },
  "cells": [
    {
      "cell_type": "markdown",
      "metadata": {
        "id": "view-in-github",
        "colab_type": "text"
      },
      "source": [
        "<a href=\"https://colab.research.google.com/github/jorge23amury/daa_2021_1/blob/master/2_diciembre.ipynb\" target=\"_parent\"><img src=\"https://colab.research.google.com/assets/colab-badge.svg\" alt=\"Open In Colab\"/></a>"
      ]
    },
    {
      "cell_type": "code",
      "metadata": {
        "colab": {
          "base_uri": "https://localhost:8080/"
        },
        "id": "DBIhqDS4AWvH",
        "outputId": "c2dd1580-1f01-420a-951c-717be1846643"
      },
      "source": [
        "def fnRec(x):\n",
        "    if x==0:\n",
        "        print(\"Stop\")\n",
        "    else:\n",
        "        print(x)\n",
        "        fnRec(x -1)\n",
        "        #print(x)\n",
        "def main ():\n",
        "    print(\"Inicio del programa\")\n",
        "    fnRec(5)\n",
        "    print(\"FIn del Programa\")\n",
        "main()"
      ],
      "execution_count": null,
      "outputs": [
        {
          "output_type": "stream",
          "text": [
            "Inicio del programa\n",
            "5\n",
            "4\n",
            "3\n",
            "2\n",
            "1\n",
            "Stop\n",
            "FIn del Programa\n"
          ],
          "name": "stdout"
        }
      ]
    },
    {
      "cell_type": "code",
      "metadata": {
        "colab": {
          "base_uri": "https://localhost:8080/"
        },
        "id": "UBIlAt-nBen7",
        "outputId": "a6de8a0d-ddbc-4082-b7b5-d710c29570da"
      },
      "source": [
        "def printRev(x):\n",
        "    if x > 0:\n",
        "        print(x)\n",
        "        printRev(x - 1)\n",
        "        print(x)\n",
        "\n",
        "\n",
        "printRev(3)"
      ],
      "execution_count": null,
      "outputs": [
        {
          "output_type": "stream",
          "text": [
            "3\n",
            "2\n",
            "1\n",
            "1\n",
            "2\n",
            "3\n"
          ],
          "name": "stdout"
        }
      ]
    },
    {
      "cell_type": "code",
      "metadata": {
        "colab": {
          "base_uri": "https://localhost:8080/"
        },
        "id": "LFwUIdUXAq_0",
        "outputId": "dc7938bd-d2ad-40be-9b99-619993bce055"
      },
      "source": [
        "def fibonacci( n ):\n",
        "    if n==1 or n==0 :\n",
        "        return n\n",
        "    else:\n",
        "        return(fibonacci(n-1) + fibonacci(n-2))\n",
        "\n",
        "print(fibonacci(8))"
      ],
      "execution_count": null,
      "outputs": [
        {
          "output_type": "stream",
          "text": [
            "21\n"
          ],
          "name": "stdout"
        }
      ]
    }
  ]
}