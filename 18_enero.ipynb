{
  "nbformat": 4,
  "nbformat_minor": 0,
  "metadata": {
    "colab": {
      "name": "18_enero.ipynb",
      "provenance": [],
      "collapsed_sections": [],
      "authorship_tag": "ABX9TyMFcJ7+j7GKLr+h0K0qJrm5",
      "include_colab_link": true
    },
    "kernelspec": {
      "name": "python3",
      "display_name": "Python 3"
    }
  },
  "cells": [
    {
      "cell_type": "markdown",
      "metadata": {
        "id": "view-in-github",
        "colab_type": "text"
      },
      "source": [
        "<a href=\"https://colab.research.google.com/github/jorge23amury/daa_2021_1/blob/master/18_enero.ipynb\" target=\"_parent\"><img src=\"https://colab.research.google.com/assets/colab-badge.svg\" alt=\"Open In Colab\"/></a>"
      ]
    },
    {
      "cell_type": "code",
      "metadata": {
        "id": "KaRJE54jMHrr"
      },
      "source": [
        "class NodoArbol:\r\n",
        "    def __init__(self, dato, hijo_izq = None, hijo_der = None):\r\n",
        "        self.dato = dato\r\n",
        "        self.left = hijo_izq\r\n",
        "        self.rigth = hijo_der"
      ],
      "execution_count": null,
      "outputs": []
    },
    {
      "cell_type": "markdown",
      "metadata": {
        "id": "1lMvcNqFMo5A"
      },
      "source": [
        "#Arbol binario de busqueda\r\n",
        "Los nodos a la izq son menores a la reiz y los nodos a la derecha son mayores a la reiz.\r\n",
        "Pueden ser recorridos en pre-orden, in-orden y post-orden"
      ]
    },
    {
      "cell_type": "code",
      "metadata": {
        "id": "FzyuU3BwSmxm"
      },
      "source": [
        "class BinarySearchTree:\r\n",
        "    def __init__(self):\r\n",
        "        self.__root = None\r\n",
        "\r\n",
        "    def insert(self, value):\r\n",
        "        if self.__root == None:\r\n",
        "            self.__root = NodoArbol(value, None, None)\r\n",
        "        else:  \r\n",
        "            #preguntar si value es menor que root, de ser el caso isnertar a la izq; pero puede ser el caso del que\r\n",
        "            #el subarbol izq ya tenga muchos elementos\r\n",
        "            self.__insert_nodo__( self.__root, value)\r\n",
        "\r\n",
        "    def __insert_nodo__(self, nodo, value):\r\n",
        "        if nodo.dato == value:\r\n",
        "            pass\r\n",
        "        elif value < nodo.dato:   #true va a la izq\r\n",
        "            if nodo.left == None:\r\n",
        "                nodo.left = NodoArbol(value, None, None)\r\n",
        "            else:\r\n",
        "                self.__insert_nodo__(nodo.left, value)\r\n",
        "        else:   #ir a la derecha\r\n",
        "            if nodo.rigth == None:\r\n",
        "                nodo.rigth = NodoArbol(value, None, None)\r\n",
        "            else:\r\n",
        "                self.__insert_nodo__(nodo.rigth, value)\r\n",
        "\r\n",
        "\r\n",
        "    #caso base, si el caso derecho esta vacio, si el caso izquierdo\r\n",
        "    def buscar(self, value):\r\n",
        "        if self.__root == None:\r\n",
        "            return None\r\n",
        "        else:  #busquda recursiva\r\n",
        "            return self.__busca_nodo(self.__root, value)\r\n",
        "\r\n",
        "    def __busca_nodo(self, nodo, value):\r\n",
        "        if nodo == None:\r\n",
        "            return None\r\n",
        "        elif nodo.dato == value:\r\n",
        "            return nodo.dato\r\n",
        "        elif value < nodo.dato:\r\n",
        "            return self.__busca_nodo(nodo.left, value)\r\n",
        "        else:\r\n",
        "            return  self.__busca_nodo(nodo.rigth, value)\r\n",
        "\r\n",
        "    def transversal(self, format = \"inorden\"):\r\n",
        "        if format == 'inorden':\r\n",
        "            self.__recorrido_in(self.__root)\r\n",
        "\r\n",
        "        elif format == 'preorden' :\r\n",
        "            self.__recorrido_pre(self.__root)\r\n",
        "\r\n",
        "        elif format == 'posorden':\r\n",
        "            self.__recorrido_pos(self.__root)\r\n",
        "\r\n",
        "        else:\r\n",
        "            print(\"Formato de recorrido no valido\")\r\n",
        "    \r\n",
        "    def __recorrido_pre(self, nodo):\r\n",
        "        if nodo != None:\r\n",
        "            print(nodo.dato)\r\n",
        "            self.__recorrido_pre(nodo.left)\r\n",
        "            self.__recorrido_pre(nodo.rigth)\r\n",
        "\r\n",
        "    def __recorrido_pre(self, nodo):\r\n",
        "        if nodo != None:\r\n",
        "            print(nodo.dato)\r\n",
        "            self.__recorrido_pre(nodo.left)\r\n",
        "            self.__recorrido_pre(nodo.rigth)\r\n",
        "\r\n",
        "    def __recorrido_in(self, nodo):\r\n",
        "        if nodo != None:\r\n",
        "            self.__recorrido_in(nodo.left)\r\n",
        "            print(nodo.dato, end=',') #raiz\r\n",
        "            self.__recorrido_in(nodo.rigth)\r\n",
        "\r\n",
        "    def __recorrido_pos(self, nodo):\r\n",
        "        if nodo != None:\r\n",
        "            self.__recorrido_pos(nodo.left)\r\n",
        "            self.__recorrido_pos(nodo.rigth)\r\n",
        "            print(nodo.dato, end =',')"
      ],
      "execution_count": null,
      "outputs": []
    },
    {
      "cell_type": "code",
      "metadata": {
        "id": "ghmybe1Tb0mK",
        "colab": {
          "base_uri": "https://localhost:8080/"
        },
        "outputId": "e4fc2a08-6013-422d-8460-cae29dc03fd6"
      },
      "source": [
        "bst = BinarySearchTree()\r\n",
        "bst.insert(50)\r\n",
        "bst.insert(30)\r\n",
        "bst.insert(20)\r\n",
        "res = bst.buscar(30)\r\n",
        "print(\"Dato : \" +str(res))\r\n",
        "print(bst.buscar(40))\r\n",
        "print(\"recorrido PREORDEN: \")\r\n",
        "bst.transversal(format = 'preorden')\r\n",
        "\r\n",
        "print(\"recorrido INORDEN: \")\r\n",
        "bst.transversal(format = 'inorden')\r\n",
        "\r\n",
        "print(\"\\nrecorrido POSORDEN: \")\r\n",
        "bst.transversal(format = 'posorden')"
      ],
      "execution_count": null,
      "outputs": [
        {
          "output_type": "stream",
          "text": [
            "Dato : 30\n",
            "None\n",
            "recorrido PREORDEN: \n",
            "50\n",
            "30\n",
            "20\n",
            "recorrido INORDEN: \n",
            "20,30,50,\n",
            "recorrido POSORDEN: \n",
            "20,30,50,"
          ],
          "name": "stdout"
        }
      ]
    }
  ]
}