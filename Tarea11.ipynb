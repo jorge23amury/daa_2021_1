{
  "nbformat": 4,
  "nbformat_minor": 0,
  "metadata": {
    "colab": {
      "name": "Tarea11.ipynb",
      "provenance": [],
      "collapsed_sections": [],
      "authorship_tag": "ABX9TyMvtNRZsFQMWK2cwGiBBCuN",
      "include_colab_link": true
    },
    "kernelspec": {
      "name": "python3",
      "display_name": "Python 3"
    }
  },
  "cells": [
    {
      "cell_type": "markdown",
      "metadata": {
        "id": "view-in-github",
        "colab_type": "text"
      },
      "source": [
        "<a href=\"https://colab.research.google.com/github/jorge23amury/daa_2021_1/blob/master/Tarea11.ipynb\" target=\"_parent\"><img src=\"https://colab.research.google.com/assets/colab-badge.svg\" alt=\"Open In Colab\"/></a>"
      ]
    },
    {
      "cell_type": "code",
      "metadata": {
        "id": "DcGGPp3B9z43"
      },
      "source": [
        "class NodoArbol:\r\n",
        "    def __init__(self, value, left = None, rigth = None):\r\n",
        "        self.data = value\r\n",
        "        self.left = left\r\n",
        "        self.rigth = rigth\r\n",
        "        "
      ],
      "execution_count": 1,
      "outputs": []
    },
    {
      "cell_type": "code",
      "metadata": {
        "id": "G6I5Q6FD-TbI"
      },
      "source": [
        "class ArbolBinarioBusqueda:\r\n",
        "    def __init__(self):\r\n",
        "        self.__root = None\r\n",
        "\r\n",
        "    def insert(self, value):\r\n",
        "        if self.__root == None:\r\n",
        "            self.__root = NodoArbol(value)\r\n",
        "\r\n",
        "        else:\r\n",
        "            self.__insert__( self.__root, value)\r\n",
        "\r\n",
        "    #__ = encapsulamiento\r\n",
        "    def __insert__( self, nodo, value):\r\n",
        "         #RECURSIVIDAD\r\n",
        "        if nodo.data == value:\r\n",
        "            print(\"El nodo ya existe, no se inserta el valor : \", value)\r\n",
        "\r\n",
        "        elif value < nodo.data:\r\n",
        "            #ir a la izq\r\n",
        "            if nodo.left == None:\r\n",
        "                nodo.left = NodoArbol(value, None, None)\r\n",
        "            else: \r\n",
        "                self.__insert__(nodo.left, value)\r\n",
        "        \r\n",
        "        else:\r\n",
        "            #ir a la derecha\r\n",
        "            if nodo.rigth == None:\r\n",
        "                nodo.rigth = NodoArbol(value, None, None)\r\n",
        "            else: \r\n",
        "                self.__insert__(nodo.rigth, value)\r\n",
        "\r\n",
        "    def transversal(self, format = \"inorden\"):\r\n",
        "        if format == 'inorden':\r\n",
        "            self.__recorrido_in(self.__root)\r\n",
        "\r\n",
        "        elif format == 'preorden' :\r\n",
        "            self.__recorrido_pre(self.__root)\r\n",
        "        elif format == 'posorden':\r\n",
        "            self.__recorrido_pos(self.__root)\r\n",
        "\r\n",
        "        else:\r\n",
        "            print(\"Formato de recorrido no valido\")\r\n",
        "    \r\n",
        "    def __recorrido_pre(self, nodo):\r\n",
        "        if nodo != None:\r\n",
        "            print(nodo.data, end=',')\r\n",
        "            self.__recorrido_pre(nodo.left)\r\n",
        "            self.__recorrido_pre(nodo.rigth)\r\n",
        "\r\n",
        "\r\n",
        "    def __recorrido_in(self, nodo):\r\n",
        "        if nodo != None:\r\n",
        "            self.__recorrido_in(nodo.left)\r\n",
        "            print(nodo.data, end=',') #raiz\r\n",
        "            self.__recorrido_in(nodo.rigth)\r\n",
        "\r\n",
        "    def __recorrido_pos(self, nodo):\r\n",
        "        if nodo != None:\r\n",
        "            self.__recorrido_pos(nodo.left)\r\n",
        "            self.__recorrido_pos(nodo.rigth)\r\n",
        "            print(nodo.data, end =',')"
      ],
      "execution_count": 2,
      "outputs": []
    },
    {
      "cell_type": "code",
      "metadata": {
        "colab": {
          "base_uri": "https://localhost:8080/"
        },
        "id": "hBs6aJy_-ZuP",
        "outputId": "0813fda9-1575-4c28-f1b3-e2c88e33f940"
      },
      "source": [
        "abb = ArbolBinarioBusqueda()\r\n",
        "abb.insert(50)\r\n",
        "abb.insert(40)\r\n",
        "abb.insert(80)\r\n",
        "abb.insert(20)\r\n",
        "abb.insert(45)\r\n",
        "abb.insert(60)\r\n",
        "abb.insert(90)\r\n",
        "abb.insert(85)\r\n",
        "abb.insert(100)\r\n",
        "abb.insert(95)\r\n",
        "\r\n",
        "print(\"recorrido PREORDEN: \")\r\n",
        "abb.transversal(format = 'preorden')\r\n",
        "\r\n",
        "print(\"\\nrecorrido INORDEN: \")  \r\n",
        "abb.transversal(format = 'inorden')\r\n",
        "\r\n",
        "print(\"\\nrecorrido POSORDEN: \")\r\n",
        "abb.transversal(format = 'posorden')"
      ],
      "execution_count": 4,
      "outputs": [
        {
          "output_type": "stream",
          "text": [
            "recorrido PREORDEN: \n",
            "50,40,20,45,80,60,90,85,100,95,\n",
            "recorrido INORDEN: \n",
            "20,40,45,50,60,80,85,90,95,100,\n",
            "recorrido POSORDEN: \n",
            "20,45,40,60,85,95,100,90,80,50,"
          ],
          "name": "stdout"
        }
      ]
    }
  ]
}